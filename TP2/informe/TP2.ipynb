{
 "cells": [
  {
   "cell_type": "code",
   "execution_count": null,
   "metadata": {
    "collapsed": true
   },
   "outputs": [],
   "source": [
    "Estructura General:\n",
    "-Introduccion\n",
    "    -Tal vez hablar del problema de Kagle y que sacan 98%\n",
    "-Extraccion de atributos\n",
    "    -Atributos\n",
    "        -histogramas\n",
    "        -Patrones\n",
    "    -Compracion\n",
    "        -Experimentacionde los importantes\n",
    "            -Usar seleccion de atributos\n",
    "            -Comparar empiricamente, sacando cada atributo o probandolo solo (graficos)\n",
    "\n",
    "-Modelos\n",
    "    -Modelos solos\n",
    "        -Boosting\n",
    "        -Random Forest\n",
    "        -SVM\n",
    "        -Gradient Boosting\n",
    "        -Bagging (?)\n",
    "    -Para cada uno de los anteriores ver los parametros optimos q da el GridSearch, score y graficar algunos parametros\n",
    "    -Comparacion entre Modelos con mejores parametros y el voter de todos\n",
    "-Concluciones\n",
    "\n"
   ]
  },
  {
   "cell_type": "markdown",
   "metadata": {},
   "source": [
    "# Trabajo Práctico N2 Aprendizaje Automático"
   ]
  },
  {
   "cell_type": "markdown",
   "metadata": {},
   "source": [
    "## Introduccion"
   ]
  },
  {
   "cell_type": "markdown",
   "metadata": {},
   "source": []
  },
  {
   "cell_type": "markdown",
   "metadata": {},
   "source": [
    "## Sesión 1: Extracción de Atributos "
   ]
  },
  {
   "cell_type": "markdown",
   "metadata": {},
   "source": []
  },
  {
   "cell_type": "markdown",
   "metadata": {},
   "source": [
    "### Histogramas"
   ]
  },
  {
   "cell_type": "markdown",
   "metadata": {},
   "source": [
    "Como primera aproximación decidimos generar un histograma de la distribución de grises y de colores en la imagen"
   ]
  },
  {
   "cell_type": "code",
   "execution_count": null,
   "metadata": {
    "collapsed": true
   },
   "outputs": [],
   "source": [
    "image = cv2.cvtColor(image, cv2.COLOR_BGR2GRAY)\n",
    "hist,bins = np.histogram(image.flatten(),256,[0,256])\n",
    "return hist"
   ]
  },
  {
   "cell_type": "code",
   "execution_count": null,
   "metadata": {
    "collapsed": true
   },
   "outputs": [],
   "source": [
    "b,g,r = cv2.split(image)\n",
    "b_hist,bins = np.histogram(b.flatten(),256,[0,256])\n",
    "g_hist,bins = np.histogram(g.flatten(),256,[0,256])\n",
    "r_hist,bins = np.histogram(r.flatten(),256,[0,256])\n",
    "return np.concatenate((b_hist,g_hist,r_hist))"
   ]
  },
  {
   "cell_type": "code",
   "execution_count": null,
   "metadata": {
    "collapsed": true
   },
   "outputs": [],
   "source": []
  }
 ],
 "metadata": {
  "kernelspec": {
   "display_name": "Python 2",
   "language": "python",
   "name": "python2"
  },
  "language_info": {
   "codemirror_mode": {
    "name": "ipython",
    "version": 2
   },
   "file_extension": ".py",
   "mimetype": "text/x-python",
   "name": "python",
   "nbconvert_exporter": "python",
   "pygments_lexer": "ipython2",
   "version": "2.7.6"
  }
 },
 "nbformat": 4,
 "nbformat_minor": 0
}
