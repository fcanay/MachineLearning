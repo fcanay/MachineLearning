{
 "metadata": {
  "name": ""
 },
 "nbformat": 3,
 "nbformat_minor": 0,
 "worksheets": [
  {
   "cells": [
    {
     "cell_type": "raw",
     "metadata": {},
     "source": [
      "Estructura General:\n",
      "-Introduccion\n",
      "    -Tal vez hablar del problema de Kagle y que sacan 98%\n",
      "-Extraccion de atributos\n",
      "    -Atributos\n",
      "        -histogramas\n",
      "        -Patrones\n",
      "    -Compracion\n",
      "        -Experimentacionde los importantes\n",
      "            -Usar seleccion de atributos\n",
      "            -Comparar empiricamente, sacando cada atributo o probandolo solo (graficos)\n",
      "\n",
      "-Modelos\n",
      "    -Modelos solos\n",
      "        -Boosting\n",
      "        -Random Forest\n",
      "        -SVM\n",
      "        -Gradient Boosting\n",
      "        -Bagging (?)\n",
      "    -Para cada uno de los anteriores ver los parametros optimos q da el GridSearch, score y graficar algunos parametros\n",
      "    -Comparacion entre Modelos con mejores parametros y el voter de todos\n",
      "-Concluciones\n",
      "\n"
     ]
    }
   ],
   "metadata": {}
  }
 ]
}